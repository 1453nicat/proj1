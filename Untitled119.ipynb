{
  "nbformat": 4,
  "nbformat_minor": 0,
  "metadata": {
    "colab": {
      "provenance": []
    },
    "kernelspec": {
      "name": "python3",
      "display_name": "Python 3"
    },
    "language_info": {
      "name": "python"
    }
  },
  "cells": [
    {
      "cell_type": "code",
      "execution_count": null,
      "metadata": {
        "id": "Wyvz8F_7KijH"
      },
      "outputs": [],
      "source": [
        "# Install required packages\n",
        "!pip install yfinance beautifulsoup4 requests --quiet\n",
        "\n",
        "# Import libraries\n",
        "import yfinance as yf\n",
        "import pandas as pd\n",
        "import matplotlib.pyplot as plt\n",
        "from bs4 import BeautifulSoup\n",
        "import requests\n",
        "\n",
        "# Function to plot stock data\n",
        "def make_graph(stock_data, stock, title=\"Stock Price Over Time\"):\n",
        "    plt.figure(figsize=(14,6))\n",
        "    plt.plot(stock_data['Date'], stock_data['Close'], label=stock)\n",
        "    plt.title(title)\n",
        "    plt.xlabel('Date')\n",
        "    plt.ylabel('Closing Price USD ($)')\n",
        "    plt.legend()\n",
        "    plt.grid(True)\n",
        "    plt.show()\n",
        "\n",
        "# Question 1: Extract Tesla stock data\n",
        "tesla = yf.Ticker(\"TSLA\")\n",
        "tesla_data = tesla.history(period=\"max\")\n",
        "tesla_data.reset_index(inplace=True)\n",
        "print(\"Tesla Stock Data - First 5 Rows:\")\n",
        "print(tesla_data.head())\n",
        "\n",
        "# Question 2: Web scrape Tesla revenue data\n",
        "url_tesla = \"https://www.macrotrends.net/stocks/charts/TSLA/tesla/revenue\"\n",
        "html_tesla = requests.get(url_tesla).text\n",
        "soup_tesla = BeautifulSoup(html_tesla, \"html.parser\")\n",
        "tables = soup_tesla.find_all(\"table\")\n",
        "tesla_revenue = pd.read_html(str(tables[1]))[0]\n",
        "tesla_revenue.columns = ['Date', 'Revenue']\n",
        "tesla_revenue.dropna(inplace=True)\n",
        "tesla_revenue = tesla_revenue[tesla_revenue['Revenue'] != '$-']\n",
        "tesla_revenue['Revenue'] = tesla_revenue['Revenue'].str.replace('$','').str.replace(',','')\n",
        "tesla_revenue['Revenue'] = pd.to_numeric(tesla_revenue['Revenue'])\n",
        "tesla_revenue['Date'] = pd.to_datetime(tesla_revenue['Date'])\n",
        "print(\"\\nTesla Revenue Data - Last 5 Rows:\")\n",
        "print(tesla_revenue.tail())\n",
        "\n",
        "# Question 3: Extract GameStop stock data\n",
        "gme = yf.Ticker(\"GME\")\n",
        "gme_data = gme.history(period=\"max\")\n",
        "gme_data.reset_index(inplace=True)\n",
        "print(\"\\nGME Stock Data - First 5 Rows:\")\n",
        "print(gme_data.head())\n",
        "\n",
        "# Question 4: Web scrape GME revenue data\n",
        "url_gme = \"https://www.macrotrends.net/stocks/charts/GME/gamestop/revenue\"\n",
        "html_gme = requests.get(url_gme).text\n",
        "soup_gme = BeautifulSoup(html_gme, \"html.parser\")\n",
        "tables_gme = soup_gme.find_all(\"table\")\n",
        "gme_revenue = pd.read_html(str(tables_gme[1]))[0]\n",
        "gme_revenue.columns = ['Date', 'Revenue']\n",
        "gme_revenue.dropna(inplace=True)\n",
        "gme_revenue = gme_revenue[gme_revenue['Revenue'] != '$-']\n",
        "gme_revenue['Revenue'] = gme_revenue['Revenue'].str.replace('$','').str.replace(',','')\n",
        "gme_revenue['Revenue'] = pd.to_numeric(gme_revenue['Revenue'])\n",
        "gme_revenue['Date'] = pd.to_datetime(gme_revenue['Date'])\n",
        "print(\"\\nGME Revenue Data - Last 5 Rows:\")\n",
        "print(gme_revenue.tail())\n",
        "\n",
        "# Question 5: Plot Tesla stock graph\n",
        "make_graph(tesla_data, \"TSLA\", title=\"Tesla Stock Price Over Time\")\n",
        "\n",
        "# Question 6: Plot GME stock graph\n",
        "make_graph(gme_data, \"GME\", title=\"GameStop Stock Price Over Time\")"
      ]
    }
  ]
}